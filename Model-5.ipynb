{
 "cells": [
  {
   "cell_type": "code",
   "execution_count": 1,
   "id": "adbc3db6",
   "metadata": {},
   "outputs": [],
   "source": [
    "import cv2\n",
    "import numpy as np\n",
    "import os\n",
    "import pandas as pd\n",
    "from PIL import Image\n",
    "import imagehash"
   ]
  },
  {
   "cell_type": "code",
   "execution_count": 2,
   "id": "5b91a279",
   "metadata": {},
   "outputs": [],
   "source": [
    "%load_ext memory_profiler"
   ]
  },
  {
   "cell_type": "code",
   "execution_count": 4,
   "id": "cac1538f",
   "metadata": {},
   "outputs": [],
   "source": [
    "def framing(video_path):\n",
    "\n",
    "    cap = cv2.VideoCapture(video_path)\n",
    "    fps = int(cap.get(5))\n",
    "    print(\"fps:\", fps)\n",
    "    if(fps==0):\n",
    "        print(\"Not available\")\n",
    "        return 0\n",
    "\n",
    "    og_fr = []\n",
    "    grayed_fr = []\n",
    "    while True:\n",
    "        ret, frame = cap.read()\n",
    "        if ret:\n",
    "            resized_frame = cv2.resize(frame, (224, 224), interpolation= cv2.INTER_LINEAR)\n",
    "\n",
    "            grayed = cv2.cvtColor(frame, cv2.COLOR_BGR2GRAY)\n",
    "            og_fr.append(frame)\n",
    "            grayed_fr.append(grayed)\n",
    "        else:\n",
    "            break\n",
    "            \n",
    "    return grayed_fr, og_fr"
   ]
  },
  {
   "cell_type": "code",
   "execution_count": 17,
   "id": "be8e3249",
   "metadata": {},
   "outputs": [],
   "source": [
    "def keyframeDetection(video_path):\n",
    "    grayed_frames, og_frames = framing(video_path)\n",
    "    \n",
    "    if(len(grayed_frames)==0):\n",
    "        print(\"Cannot compare video because of zero fps.\")\n",
    "        return 0\n",
    "    \n",
    "    else:\n",
    "        video_name = (video_path.split('/')[-1]).split('.')[0]\n",
    "        keyframePath = 'keyframes/'+video_name\n",
    "        if not os.path.exists(keyframePath):\n",
    "            os.makedirs(keyframePath)\n",
    "        \n",
    "        diff = []\n",
    "        for i in range(0,len(grayed_frames)-1):\n",
    "            diff.append(cv2.absdiff(grayed_frames[i], grayed_frames[i+1]))\n",
    "\n",
    "        mn_all_frames = np.mean(diff)         #This gives mean\n",
    "        st_d_all_frames = np.std(diff)        #This gives standard deviation\n",
    "        a = 8                                 #Setting a random value we can modify it to any value \n",
    "        ts = mn_all_frames + (a * st_d_all_frames)   # global threshold\n",
    "        \n",
    "        local_ts = []\n",
    "        for i in range(len(diff)):\n",
    "            mn = np.mean(diff[i])             #Calculating the mean for each frame\n",
    "            st_d = np.std(diff[i])            #Calculating the standard deviation for each frame\n",
    "            fr_ts = mn + (5*st_d)             #Finding the threshold values for each frame\n",
    "            local_ts.append([i,fr_ts])\n",
    "            \n",
    "\n",
    "        frame_num = []\n",
    "        count = 0\n",
    "        for i,l_tr in(local_ts):\n",
    "            if l_tr >= ts:                   #Comparing the threshold values to the standard threshold/global threshold values\n",
    "                cv2.imwrite(keyframePath+'/'+str(i)+'.jpg',grayed_frames[i]) \n",
    "                frame_num.append(i)\n",
    "                count+=1\n",
    "\n",
    "        print(\"Total Number of keyframes saved: {}\".format(count))    \n",
    "        return frame_num, keyframePath"
   ]
  },
  {
   "cell_type": "code",
   "execution_count": 18,
   "id": "9048b936",
   "metadata": {},
   "outputs": [],
   "source": [
    "def imageDist(img1, img2):\n",
    "    img1_hash = imagehash.phash(Image.open(img1))\n",
    "    img2_hash = imagehash.phash(Image.open(img2))\n",
    "    dist = img1_hash - img2_hash\n",
    "    return int(dist)"
   ]
  },
  {
   "cell_type": "code",
   "execution_count": 19,
   "id": "67cca46a",
   "metadata": {},
   "outputs": [],
   "source": [
    "def videoSimilarity(video1_path, video2_path):\n",
    "    v1_keyframe_num, keyframe1_path = keyframeDetection(video1_path)\n",
    "    v2_keyframe_num, keyframe2_path = keyframeDetection(video2_path)\n",
    "    \n",
    "    dist_mat = []\n",
    "    count=0\n",
    "    for i in v1_keyframe_num:\n",
    "        row = []\n",
    "        p1 = keyframe1_path+'/'+str(i)+'.jpg'\n",
    "        for j in v2_keyframe_num:  \n",
    "            p2 = keyframe2_path+'/'+str(j)+'.jpg'\n",
    "            dist = imageDist(p1, p2)\n",
    "            row.append(dist)\n",
    "\n",
    "        count = count+1\n",
    "        print(\"row\",count, end='\\r')\n",
    "        dist_mat.append(row)\n",
    "        \n",
    "    sim_mat = 100-np.array(dist_mat)\n",
    "    sim_df = pd.DataFrame(sim_mat)   \n",
    "    sim_percent = ((sim_df.max(axis=1).sum())/len(sim_df))\n",
    "    return sim_percent"
   ]
  },
  {
   "cell_type": "code",
   "execution_count": 20,
   "id": "21b65b28",
   "metadata": {},
   "outputs": [
    {
     "name": "stdout",
     "output_type": "stream",
     "text": [
      "fps: 29\n",
      "Total Number of keyframes saved: 11\n",
      "fps: 30\n",
      "Total Number of keyframes saved: 9\n",
      "row 11\r"
     ]
    },
    {
     "data": {
      "text/plain": [
       "85.27272727272727"
      ]
     },
     "execution_count": 20,
     "metadata": {},
     "output_type": "execute_result"
    }
   ],
   "source": [
    "videoSimilarity(\"index-videos/test3.mp4\", \"index-videos/test4.mp4\")"
   ]
  },
  {
   "cell_type": "code",
   "execution_count": 10,
   "id": "5523da0b",
   "metadata": {},
   "outputs": [
    {
     "name": "stdout",
     "output_type": "stream",
     "text": [
      "fps: 30\n",
      "Total Number of keyframes saved: 34\n",
      "fps: 30\n",
      "Total Number of keyframes saved: 14\n",
      "row 34\r"
     ]
    },
    {
     "data": {
      "text/plain": [
       "78.47058823529412"
      ]
     },
     "execution_count": 10,
     "metadata": {},
     "output_type": "execute_result"
    }
   ],
   "source": [
    "videoSimilarity(\"index-videos/test5.mp4\", \"index-videos/test6.mp4\")"
   ]
  },
  {
   "cell_type": "code",
   "execution_count": 11,
   "id": "d3d5fe00",
   "metadata": {},
   "outputs": [
    {
     "name": "stdout",
     "output_type": "stream",
     "text": [
      "fps: 30\n",
      "Total Number of keyframes saved: 74\n",
      "fps: 25\n",
      "Total Number of keyframes saved: 53\n",
      "row 74\r"
     ]
    },
    {
     "data": {
      "text/plain": [
       "97.72972972972973"
      ]
     },
     "execution_count": 11,
     "metadata": {},
     "output_type": "execute_result"
    }
   ],
   "source": [
    "videoSimilarity(\"index-videos/test7.mp4\", \"index-videos/test8.mp4\")"
   ]
  },
  {
   "cell_type": "code",
   "execution_count": null,
   "id": "0ef2871d",
   "metadata": {},
   "outputs": [],
   "source": []
  },
  {
   "cell_type": "code",
   "execution_count": null,
   "id": "48a2c8e1",
   "metadata": {},
   "outputs": [],
   "source": []
  },
  {
   "cell_type": "code",
   "execution_count": null,
   "id": "1518355b",
   "metadata": {},
   "outputs": [],
   "source": []
  },
  {
   "cell_type": "code",
   "execution_count": null,
   "id": "412fa73f",
   "metadata": {},
   "outputs": [],
   "source": []
  },
  {
   "cell_type": "code",
   "execution_count": null,
   "id": "18e34195",
   "metadata": {},
   "outputs": [],
   "source": []
  },
  {
   "cell_type": "code",
   "execution_count": null,
   "id": "ca25b118",
   "metadata": {},
   "outputs": [],
   "source": []
  },
  {
   "cell_type": "code",
   "execution_count": null,
   "id": "49d7e90e",
   "metadata": {},
   "outputs": [],
   "source": []
  },
  {
   "cell_type": "code",
   "execution_count": 15,
   "id": "e60db628",
   "metadata": {},
   "outputs": [
    {
     "data": {
      "text/plain": [
       "96.36363636363636"
      ]
     },
     "execution_count": 15,
     "metadata": {},
     "output_type": "execute_result"
    }
   ],
   "source": [
    "y = 100-pd.DataFrame(x)\n",
    "sim_percent = ((y.max(axis=1).sum())/len(y))\n",
    "sim_percent"
   ]
  },
  {
   "cell_type": "code",
   "execution_count": 35,
   "id": "5b43593c",
   "metadata": {},
   "outputs": [
    {
     "data": {
      "text/html": [
       "<div>\n",
       "<style scoped>\n",
       "    .dataframe tbody tr th:only-of-type {\n",
       "        vertical-align: middle;\n",
       "    }\n",
       "\n",
       "    .dataframe tbody tr th {\n",
       "        vertical-align: top;\n",
       "    }\n",
       "\n",
       "    .dataframe thead th {\n",
       "        text-align: right;\n",
       "    }\n",
       "</style>\n",
       "<table border=\"1\" class=\"dataframe\">\n",
       "  <thead>\n",
       "    <tr style=\"text-align: right;\">\n",
       "      <th></th>\n",
       "      <th>0</th>\n",
       "      <th>1</th>\n",
       "      <th>2</th>\n",
       "      <th>3</th>\n",
       "      <th>4</th>\n",
       "      <th>5</th>\n",
       "      <th>6</th>\n",
       "      <th>7</th>\n",
       "      <th>8</th>\n",
       "    </tr>\n",
       "  </thead>\n",
       "  <tbody>\n",
       "    <tr>\n",
       "      <th>0</th>\n",
       "      <td>96</td>\n",
       "      <td>94</td>\n",
       "      <td>92</td>\n",
       "      <td>92</td>\n",
       "      <td>86</td>\n",
       "      <td>86</td>\n",
       "      <td>86</td>\n",
       "      <td>86</td>\n",
       "      <td>90</td>\n",
       "    </tr>\n",
       "    <tr>\n",
       "      <th>1</th>\n",
       "      <td>96</td>\n",
       "      <td>96</td>\n",
       "      <td>94</td>\n",
       "      <td>94</td>\n",
       "      <td>90</td>\n",
       "      <td>90</td>\n",
       "      <td>90</td>\n",
       "      <td>88</td>\n",
       "      <td>90</td>\n",
       "    </tr>\n",
       "    <tr>\n",
       "      <th>2</th>\n",
       "      <td>96</td>\n",
       "      <td>98</td>\n",
       "      <td>100</td>\n",
       "      <td>100</td>\n",
       "      <td>90</td>\n",
       "      <td>90</td>\n",
       "      <td>90</td>\n",
       "      <td>90</td>\n",
       "      <td>94</td>\n",
       "    </tr>\n",
       "    <tr>\n",
       "      <th>3</th>\n",
       "      <td>90</td>\n",
       "      <td>90</td>\n",
       "      <td>90</td>\n",
       "      <td>90</td>\n",
       "      <td>96</td>\n",
       "      <td>96</td>\n",
       "      <td>96</td>\n",
       "      <td>94</td>\n",
       "      <td>90</td>\n",
       "    </tr>\n",
       "    <tr>\n",
       "      <th>4</th>\n",
       "      <td>90</td>\n",
       "      <td>90</td>\n",
       "      <td>90</td>\n",
       "      <td>90</td>\n",
       "      <td>96</td>\n",
       "      <td>96</td>\n",
       "      <td>96</td>\n",
       "      <td>94</td>\n",
       "      <td>90</td>\n",
       "    </tr>\n",
       "    <tr>\n",
       "      <th>5</th>\n",
       "      <td>92</td>\n",
       "      <td>92</td>\n",
       "      <td>92</td>\n",
       "      <td>92</td>\n",
       "      <td>96</td>\n",
       "      <td>96</td>\n",
       "      <td>96</td>\n",
       "      <td>94</td>\n",
       "      <td>90</td>\n",
       "    </tr>\n",
       "    <tr>\n",
       "      <th>6</th>\n",
       "      <td>92</td>\n",
       "      <td>92</td>\n",
       "      <td>92</td>\n",
       "      <td>92</td>\n",
       "      <td>96</td>\n",
       "      <td>96</td>\n",
       "      <td>96</td>\n",
       "      <td>94</td>\n",
       "      <td>90</td>\n",
       "    </tr>\n",
       "    <tr>\n",
       "      <th>7</th>\n",
       "      <td>90</td>\n",
       "      <td>90</td>\n",
       "      <td>92</td>\n",
       "      <td>92</td>\n",
       "      <td>96</td>\n",
       "      <td>96</td>\n",
       "      <td>96</td>\n",
       "      <td>96</td>\n",
       "      <td>88</td>\n",
       "    </tr>\n",
       "    <tr>\n",
       "      <th>8</th>\n",
       "      <td>90</td>\n",
       "      <td>90</td>\n",
       "      <td>92</td>\n",
       "      <td>92</td>\n",
       "      <td>96</td>\n",
       "      <td>96</td>\n",
       "      <td>96</td>\n",
       "      <td>96</td>\n",
       "      <td>88</td>\n",
       "    </tr>\n",
       "    <tr>\n",
       "      <th>9</th>\n",
       "      <td>90</td>\n",
       "      <td>90</td>\n",
       "      <td>92</td>\n",
       "      <td>92</td>\n",
       "      <td>96</td>\n",
       "      <td>96</td>\n",
       "      <td>96</td>\n",
       "      <td>96</td>\n",
       "      <td>88</td>\n",
       "    </tr>\n",
       "    <tr>\n",
       "      <th>10</th>\n",
       "      <td>90</td>\n",
       "      <td>90</td>\n",
       "      <td>92</td>\n",
       "      <td>92</td>\n",
       "      <td>96</td>\n",
       "      <td>96</td>\n",
       "      <td>96</td>\n",
       "      <td>96</td>\n",
       "      <td>88</td>\n",
       "    </tr>\n",
       "  </tbody>\n",
       "</table>\n",
       "</div>"
      ],
      "text/plain": [
       "     0   1    2    3   4   5   6   7   8\n",
       "0   96  94   92   92  86  86  86  86  90\n",
       "1   96  96   94   94  90  90  90  88  90\n",
       "2   96  98  100  100  90  90  90  90  94\n",
       "3   90  90   90   90  96  96  96  94  90\n",
       "4   90  90   90   90  96  96  96  94  90\n",
       "5   92  92   92   92  96  96  96  94  90\n",
       "6   92  92   92   92  96  96  96  94  90\n",
       "7   90  90   92   92  96  96  96  96  88\n",
       "8   90  90   92   92  96  96  96  96  88\n",
       "9   90  90   92   92  96  96  96  96  88\n",
       "10  90  90   92   92  96  96  96  96  88"
      ]
     },
     "execution_count": 35,
     "metadata": {},
     "output_type": "execute_result"
    }
   ],
   "source": [
    "y"
   ]
  },
  {
   "cell_type": "code",
   "execution_count": 18,
   "id": "c30ebed2",
   "metadata": {},
   "outputs": [
    {
     "data": {
      "text/plain": [
       "[[4, 6, 8, 8, 14, 14, 14, 14, 10],\n",
       " [4, 4, 6, 6, 10, 10, 10, 12, 10],\n",
       " [4, 2, 0, 0, 10, 10, 10, 10, 6],\n",
       " [10, 10, 10, 10, 4, 4, 4, 6, 10],\n",
       " [10, 10, 10, 10, 4, 4, 4, 6, 10],\n",
       " [8, 8, 8, 8, 4, 4, 4, 6, 10],\n",
       " [8, 8, 8, 8, 4, 4, 4, 6, 10],\n",
       " [10, 10, 8, 8, 4, 4, 4, 4, 12],\n",
       " [10, 10, 8, 8, 4, 4, 4, 4, 12],\n",
       " [10, 10, 8, 8, 4, 4, 4, 4, 12],\n",
       " [10, 10, 8, 8, 4, 4, 4, 4, 12]]"
      ]
     },
     "execution_count": 18,
     "metadata": {},
     "output_type": "execute_result"
    }
   ],
   "source": [
    "x"
   ]
  },
  {
   "cell_type": "code",
   "execution_count": 22,
   "id": "e8969ab3",
   "metadata": {},
   "outputs": [
    {
     "name": "stdout",
     "output_type": "stream",
     "text": [
      "f6a4294b427a6d17\n"
     ]
    }
   ],
   "source": [
    "i = Image.open(\"keyframes\\speeder-bmw/0.jpg\")\n",
    "h_value = imagehash.phash(i)\n",
    "print(h_value)"
   ]
  },
  {
   "cell_type": "code",
   "execution_count": 25,
   "id": "db1ae922",
   "metadata": {},
   "outputs": [
    {
     "name": "stdout",
     "output_type": "stream",
     "text": [
      "64\n",
      "<class 'imagehash.ImageHash'>\n"
     ]
    }
   ],
   "source": [
    "print(len(h_value))\n",
    "print(type(h_value))"
   ]
  },
  {
   "cell_type": "code",
   "execution_count": null,
   "id": "0a0477e3",
   "metadata": {},
   "outputs": [],
   "source": []
  }
 ],
 "metadata": {
  "kernelspec": {
   "display_name": "Python 3",
   "language": "python",
   "name": "python3"
  },
  "language_info": {
   "codemirror_mode": {
    "name": "ipython",
    "version": 3
   },
   "file_extension": ".py",
   "mimetype": "text/x-python",
   "name": "python",
   "nbconvert_exporter": "python",
   "pygments_lexer": "ipython3",
   "version": "3.8.8"
  }
 },
 "nbformat": 4,
 "nbformat_minor": 5
}
