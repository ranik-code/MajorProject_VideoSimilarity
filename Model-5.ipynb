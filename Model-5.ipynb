{
 "cells": [
  {
   "cell_type": "code",
   "execution_count": 1,
   "id": "dca5c522",
   "metadata": {},
   "outputs": [],
   "source": [
    "import cv2\n",
    "import numpy as np\n",
    "import time\n",
    "import os\n",
    "from image_match.goldberg import ImageSignature\n",
    "import pandas as pd\n",
    "from PIL import Image\n",
    "import imagehash"
   ]
  },
  {
   "cell_type": "code",
   "execution_count": 2,
   "id": "4f0634e5",
   "metadata": {},
   "outputs": [],
   "source": [
    "def framing(video_path):\n",
    "\n",
    "    cap = cv2.VideoCapture(video_path)\n",
    "    fps = int(cap.get(5))\n",
    "    if(fps==0):\n",
    "        print(\"Not available\")\n",
    "    print(fps)\n",
    "\n",
    "    fr = []\n",
    "    res = []\n",
    "    while True:\n",
    "        ret, frame = cap.read()\n",
    "        if ret:\n",
    "            resized_frame = cv2.resize(frame, (224, 224), interpolation= cv2.INTER_LINEAR)\n",
    "\n",
    "            grayed = cv2.cvtColor(frame, cv2.COLOR_BGR2GRAY)\n",
    "            fr.append(frame)\n",
    "            res.append(grayed)\n",
    "        else:\n",
    "            break\n",
    "            \n",
    "    return res, fr"
   ]
  },
  {
   "cell_type": "code",
   "execution_count": 3,
   "id": "d7150b49",
   "metadata": {},
   "outputs": [],
   "source": [
    "def keyframeDetection(video_path):\n",
    "    frames,ogframes = framing(video_path)\n",
    "    if(len(frames)==0):\n",
    "        print(\"Cannot compare video because of zero fps.\")\n",
    "        return 0\n",
    "    else:\n",
    "        video_name = (video_path.split('/')[-1]).split('.')[0]\n",
    "        keyframePath = 'keyframes/'+video_name\n",
    "        if not os.path.exists(keyframePath):\n",
    "            os.makedirs(keyframePath)\n",
    "        \n",
    "        diff = []\n",
    "        for i in range(0,len(frames)-1):\n",
    "            diff.append(cv2.absdiff(frames[i],frames[i+1]))\n",
    "\n",
    "        mn_all_frames = np.mean(diff)         #This gives mean\n",
    "        st_d_all_frames = np.std(diff)        #This gives standard deviation\n",
    "        a = 8                                 #Setting a random value we can modify it to any value \n",
    "        ts = mn_all_frames + (a * st_d_all_frames)\n",
    "        \n",
    "        a_fr = []\n",
    "        for i in range(len(diff)):\n",
    "            mn = np.mean(diff[i])             #Calculating the mean for each frame\n",
    "            st_d = np.std(diff[i])            #Calculating the standard deviation for each frame\n",
    "            fr_ts = mn + (5*st_d)             #Finding the threshold values for each frame/image\n",
    "            a_fr.append([i,fr_ts])\n",
    "            \n",
    "\n",
    "        frame_num = []\n",
    "        count = 0\n",
    "        for i,ac_tr in(a_fr):\n",
    "            if ac_tr >= ts:                   #Comparing the threshold values to the standard threshold/global threshold values\n",
    "                cv2.imwrite(keyframePath+'/'+str(i)+'.jpg',frames[i]) \n",
    "                frame_num.append(i)\n",
    "                count+=1\n",
    "\n",
    "        print(\"Total Number of keyframes saved: {}\".format(count))    \n",
    "        return frame_num, keyframePath"
   ]
  },
  {
   "cell_type": "code",
   "execution_count": 23,
   "id": "0942af6a",
   "metadata": {},
   "outputs": [],
   "source": [
    "def imageDist(img1, img2):\n",
    "    img1_hash = imagehash.phash(Image.open(img1))\n",
    "    img2_hash = imagehash.phash(Image.open(img2))\n",
    "    dist = img1_hash - img2_hash\n",
    "    return int(dist)"
   ]
  },
  {
   "cell_type": "code",
   "execution_count": 24,
   "id": "6845a710",
   "metadata": {},
   "outputs": [],
   "source": [
    "def videoSimilarity(video1_path, video2_path):\n",
    "    v1_keyframe_num, keyframe1_path = keyframeDetection(video1_path)\n",
    "    v2_keyframe_num, keyframe2_path = keyframeDetection(video2_path)\n",
    "    \n",
    "    dist_mat = []\n",
    "    count=0\n",
    "    for i in v1_keyframe_num:\n",
    "        row = []\n",
    "        p1 = keyframe1_path+'/'+str(i)+'.jpg'\n",
    "        for j in v2_keyframe_num:  \n",
    "            p2 = keyframe2_path+'/'+str(j)+'.jpg'\n",
    "            dist = imageDist(p1, p2)\n",
    "            row.append(dist)\n",
    "\n",
    "        count = count+1\n",
    "        print(\"row\",count, end='\\r')\n",
    "        dist_mat.append(row)\n",
    "        \n",
    "    sim_mat = 100-np.array(dist_mat)\n",
    "    sim_df = pd.DataFrame(sim_mat)   \n",
    "    sim_percent = ((sim_df.max(axis=1).sum())/len(sim_df))\n",
    "    return sim_percent"
   ]
  },
  {
   "cell_type": "code",
   "execution_count": 25,
   "id": "9e4ece07",
   "metadata": {},
   "outputs": [
    {
     "name": "stdout",
     "output_type": "stream",
     "text": [
      "29\n",
      "Total Number of keyframes saved: 11\n",
      "30\n",
      "Total Number of keyframes saved: 9\n",
      "row 11\r"
     ]
    },
    {
     "data": {
      "text/plain": [
       "85.27272727272727"
      ]
     },
     "execution_count": 25,
     "metadata": {},
     "output_type": "execute_result"
    }
   ],
   "source": [
    "videoSimilarity(\"index-videos/test3.mp4\", \"index-videos/test4.mp4\")"
   ]
  },
  {
   "cell_type": "code",
   "execution_count": 26,
   "id": "48b70a1c",
   "metadata": {},
   "outputs": [
    {
     "name": "stdout",
     "output_type": "stream",
     "text": [
      "30\n",
      "Total Number of keyframes saved: 34\n",
      "30\n",
      "Total Number of keyframes saved: 14\n",
      "row 34\r"
     ]
    },
    {
     "data": {
      "text/plain": [
       "78.47058823529412"
      ]
     },
     "execution_count": 26,
     "metadata": {},
     "output_type": "execute_result"
    }
   ],
   "source": [
    "videoSimilarity(\"index-videos/test5.mp4\", \"index-videos/test6.mp4\")"
   ]
  },
  {
   "cell_type": "code",
   "execution_count": 27,
   "id": "80bd43ac",
   "metadata": {},
   "outputs": [
    {
     "name": "stdout",
     "output_type": "stream",
     "text": [
      "30\n",
      "Total Number of keyframes saved: 16\n",
      "25\n",
      "Total Number of keyframes saved: 16\n",
      "row 160\r"
     ]
    },
    {
     "data": {
      "text/plain": [
       "98.125"
      ]
     },
     "execution_count": 27,
     "metadata": {},
     "output_type": "execute_result"
    }
   ],
   "source": [
    "videoSimilarity(\"index-videos/test7.mp4\", \"index-videos/test8.mp4\")"
   ]
  },
  {
   "cell_type": "code",
   "execution_count": 15,
   "id": "1082083b",
   "metadata": {},
   "outputs": [
    {
     "data": {
      "text/plain": [
       "96.36363636363636"
      ]
     },
     "execution_count": 15,
     "metadata": {},
     "output_type": "execute_result"
    }
   ],
   "source": [
    "y = 100-pd.DataFrame(x)\n",
    "sim_percent = ((y.max(axis=1).sum())/len(y))\n",
    "sim_percent"
   ]
  },
  {
   "cell_type": "code",
   "execution_count": 18,
   "id": "d3403dfc",
   "metadata": {},
   "outputs": [
    {
     "data": {
      "text/plain": [
       "[[4, 6, 8, 8, 14, 14, 14, 14, 10],\n",
       " [4, 4, 6, 6, 10, 10, 10, 12, 10],\n",
       " [4, 2, 0, 0, 10, 10, 10, 10, 6],\n",
       " [10, 10, 10, 10, 4, 4, 4, 6, 10],\n",
       " [10, 10, 10, 10, 4, 4, 4, 6, 10],\n",
       " [8, 8, 8, 8, 4, 4, 4, 6, 10],\n",
       " [8, 8, 8, 8, 4, 4, 4, 6, 10],\n",
       " [10, 10, 8, 8, 4, 4, 4, 4, 12],\n",
       " [10, 10, 8, 8, 4, 4, 4, 4, 12],\n",
       " [10, 10, 8, 8, 4, 4, 4, 4, 12],\n",
       " [10, 10, 8, 8, 4, 4, 4, 4, 12]]"
      ]
     },
     "execution_count": 18,
     "metadata": {},
     "output_type": "execute_result"
    }
   ],
   "source": [
    "x"
   ]
  },
  {
   "cell_type": "code",
   "execution_count": 21,
   "id": "48eb34dc",
   "metadata": {},
   "outputs": [
    {
     "name": "stdout",
     "output_type": "stream",
     "text": [
      "d53adc2771959621\n"
     ]
    }
   ],
   "source": [
    "i = Image.open(\"keyframes/test4/43.jpg\")\n",
    "x = imagehash.phash(i)\n",
    "print(x)"
   ]
  },
  {
   "cell_type": "code",
   "execution_count": null,
   "id": "ea979c30",
   "metadata": {},
   "outputs": [],
   "source": []
  }
 ],
 "metadata": {
  "kernelspec": {
   "display_name": "Python 3",
   "language": "python",
   "name": "python3"
  },
  "language_info": {
   "codemirror_mode": {
    "name": "ipython",
    "version": 3
   },
   "file_extension": ".py",
   "mimetype": "text/x-python",
   "name": "python",
   "nbconvert_exporter": "python",
   "pygments_lexer": "ipython3",
   "version": "3.8.8"
  }
 },
 "nbformat": 4,
 "nbformat_minor": 5
}
